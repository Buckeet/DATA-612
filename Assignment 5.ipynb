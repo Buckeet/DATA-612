{
 "cells": [
  {
   "cell_type": "code",
   "execution_count": 50,
   "id": "e0efcec2",
   "metadata": {},
   "outputs": [],
   "source": [
    "#import pandas library\n",
    "import pandas as pd\n",
    "\n",
    "#import the datasets I will be using\n",
    "#batting statistics and game appearances\n",
    "batting = pd.read_csv\\\n",
    "('https://raw.githubusercontent.com/frankData612/data_612/master/baseballdatabank-master/core/Batting.csv')\n",
    "\n",
    "appearances = pd.read_csv\\\n",
    "('https://raw.githubusercontent.com/frankData612/data_612/master/baseballdatabank-master/core/Appearances.csv')"
   ]
  },
  {
   "cell_type": "code",
   "execution_count": 51,
   "id": "78d2816f",
   "metadata": {},
   "outputs": [
    {
     "name": "stdout",
     "output_type": "stream",
     "text": [
      "         playerID  yearID  stint teamID lgID   G   AB   R   H  2B  ...   RBI  \\\n",
      "0       abercda01    1871      1    TRO  NaN   1    4   0   0   0  ...   0.0   \n",
      "1        addybo01    1871      1    RC1  NaN  25  118  30  32   6  ...  13.0   \n",
      "2       allisar01    1871      1    CL1  NaN  29  137  28  40   4  ...  19.0   \n",
      "3       allisdo01    1871      1    WS3  NaN  27  133  28  44  10  ...  27.0   \n",
      "4       ansonca01    1871      1    RC1  NaN  25  120  29  39  11  ...  16.0   \n",
      "...           ...     ...    ...    ...  ...  ..  ...  ..  ..  ..  ...   ...   \n",
      "107424  zimmejo02    2019      1    DET   AL  23    2   0   0   0  ...   0.0   \n",
      "107425  zimmeky01    2019      1    KCA   AL  15    0   0   0   0  ...   0.0   \n",
      "107426  zimmery01    2019      1    WAS   NL  52  171  20  44   9  ...  27.0   \n",
      "107427  zobribe01    2019      1    CHN   NL  47  150  24  39   5  ...  17.0   \n",
      "107428  zuninmi01    2019      1    TBA   AL  90  266  30  44  10  ...  32.0   \n",
      "\n",
      "         SB   CS  BB    SO  IBB  HBP   SH   SF  GIDP  \n",
      "0       0.0  0.0   0   0.0  NaN  NaN  NaN  NaN   0.0  \n",
      "1       8.0  1.0   4   0.0  NaN  NaN  NaN  NaN   0.0  \n",
      "2       3.0  1.0   2   5.0  NaN  NaN  NaN  NaN   1.0  \n",
      "3       1.0  1.0   0   2.0  NaN  NaN  NaN  NaN   0.0  \n",
      "4       6.0  2.0   2   1.0  NaN  NaN  NaN  NaN   0.0  \n",
      "...     ...  ...  ..   ...  ...  ...  ...  ...   ...  \n",
      "107424  0.0  0.0   0   2.0  0.0  0.0  0.0  0.0   0.0  \n",
      "107425  0.0  0.0   0   0.0  0.0  0.0  0.0  0.0   0.0  \n",
      "107426  0.0  0.0  17  39.0  0.0  0.0  0.0  2.0   4.0  \n",
      "107427  0.0  0.0  23  24.0  0.0  1.0  0.0  2.0   6.0  \n",
      "107428  0.0  0.0  20  98.0  0.0  3.0  0.0  0.0   4.0  \n",
      "\n",
      "[107429 rows x 22 columns]\n"
     ]
    }
   ],
   "source": [
    "#view batting dataset to ensure it's the data I want to use\n",
    "print(batting)"
   ]
  },
  {
   "cell_type": "code",
   "execution_count": 52,
   "id": "841c9d52",
   "metadata": {},
   "outputs": [
    {
     "name": "stdout",
     "output_type": "stream",
     "text": [
      "        yearID teamID lgID   playerID  G_all    GS  G_batting  G_defense  G_p  \\\n",
      "0         1871    TRO  NaN  abercda01      1   1.0          1        1.0    0   \n",
      "1         1871    RC1  NaN   addybo01     25  25.0         25       25.0    0   \n",
      "2         1871    CL1  NaN  allisar01     29  29.0         29       29.0    0   \n",
      "3         1871    WS3  NaN  allisdo01     27  27.0         27       27.0    0   \n",
      "4         1871    RC1  NaN  ansonca01     25  25.0         25       25.0    0   \n",
      "...        ...    ...  ...        ...    ...   ...        ...        ...  ...   \n",
      "107352    2019    DET   AL  zimmejo02     23  23.0          1       23.0   23   \n",
      "107353    2019    KCA   AL  zimmeky01     15   0.0          1       15.0   15   \n",
      "107354    2019    WAS   NL  zimmery01     52  43.0         52       44.0    0   \n",
      "107355    2019    CHN   NL  zobribe01     47  38.0         47       44.0    1   \n",
      "107356    2019    TBA   AL  zuninmi01     90  78.0         90       89.0    0   \n",
      "\n",
      "        G_c  ...  G_2b  G_3b  G_ss  G_lf  G_cf  G_rf  G_of  G_dh  G_ph  G_pr  \n",
      "0         0  ...     0     0     1     0     0     0     0   0.0   0.0   0.0  \n",
      "1         0  ...    22     0     3     0     0     0     0   0.0   0.0   0.0  \n",
      "2         0  ...     2     0     0     0    29     0    29   0.0   0.0   0.0  \n",
      "3        27  ...     0     0     0     0     0     0     0   0.0   0.0   0.0  \n",
      "4         5  ...     2    20     0     1     0     0     1   0.0   0.0   0.0  \n",
      "...     ...  ...   ...   ...   ...   ...   ...   ...   ...   ...   ...   ...  \n",
      "107352    0  ...     0     0     0     0     0     0     0   0.0   0.0   0.0  \n",
      "107353    0  ...     0     0     0     0     0     0     0   0.0   0.0   0.0  \n",
      "107354    0  ...     0     0     0     0     0     0     0   3.0   7.0   0.0  \n",
      "107355    0  ...    32     0     1     6     0    13    17   1.0   5.0   0.0  \n",
      "107356   89  ...     0     0     0     0     0     0     0   0.0   3.0   0.0  \n",
      "\n",
      "[107357 rows x 21 columns]\n"
     ]
    }
   ],
   "source": [
    "#view appearances dataset to ensure it's the data I want to use\n",
    "print(appearances)"
   ]
  },
  {
   "cell_type": "code",
   "execution_count": 53,
   "id": "001fa81b",
   "metadata": {},
   "outputs": [],
   "source": [
    "#use pd.merge to merge the batting and appearances datasets\n",
    "#left join on the batting dataset\n",
    "#joining on playerID, yearID, teamID, lgID\n",
    "player_stats = pd.merge(batting, appearances, how='left',\\\n",
    "                         left_on=['playerID', 'yearID', 'teamID', 'lgID'], right_on=['playerID', 'yearID', 'teamID', 'lgID'])"
   ]
  },
  {
   "cell_type": "code",
   "execution_count": 54,
   "id": "792779c6",
   "metadata": {},
   "outputs": [
    {
     "name": "stdout",
     "output_type": "stream",
     "text": [
      "playerID\n",
      "yearID\n",
      "stint\n",
      "teamID\n",
      "lgID\n",
      "G\n",
      "AB\n",
      "R\n",
      "H\n",
      "2B\n",
      "3B\n",
      "HR\n",
      "RBI\n",
      "SB\n",
      "CS\n",
      "BB\n",
      "SO\n",
      "IBB\n",
      "HBP\n",
      "SH\n",
      "SF\n",
      "GIDP\n",
      "G_all\n",
      "GS\n",
      "G_batting\n",
      "G_defense\n",
      "G_p\n",
      "G_c\n",
      "G_1b\n",
      "G_2b\n",
      "G_3b\n",
      "G_ss\n",
      "G_lf\n",
      "G_cf\n",
      "G_rf\n",
      "G_of\n",
      "G_dh\n",
      "G_ph\n",
      "G_pr\n"
     ]
    }
   ],
   "source": [
    "#printing a list of column names to confirm I have the columns I wants and there are no duplicates\n",
    "for col in player_stats.columns:\n",
    "    print(col)"
   ]
  },
  {
   "cell_type": "code",
   "execution_count": 55,
   "id": "ca8c9236",
   "metadata": {},
   "outputs": [
    {
     "name": "stdout",
     "output_type": "stream",
     "text": [
      "playerID     107429\n",
      "yearID       107429\n",
      "stint        107429\n",
      "teamID       107429\n",
      "lgID         106691\n",
      "G            107429\n",
      "AB           107429\n",
      "R            107429\n",
      "H            107429\n",
      "2B           107429\n",
      "3B           107429\n",
      "HR           107429\n",
      "RBI          106673\n",
      "SB           105061\n",
      "CS            83888\n",
      "BB           107429\n",
      "SO           105329\n",
      "IBB           70778\n",
      "HBP          104612\n",
      "SH           101360\n",
      "SF            71325\n",
      "GIDP          81988\n",
      "G_all        107427\n",
      "GS            98446\n",
      "G_batting    107427\n",
      "G_defense     99713\n",
      "G_p          107427\n",
      "G_c          107427\n",
      "G_1b         107427\n",
      "G_2b         107427\n",
      "G_3b         107427\n",
      "G_ss         107427\n",
      "G_lf         107427\n",
      "G_cf         107427\n",
      "G_rf         107427\n",
      "G_of         107427\n",
      "G_dh         106160\n",
      "G_ph          98446\n",
      "G_pr          98446\n",
      "dtype: int64\n"
     ]
    }
   ],
   "source": [
    "#count the number of non-missing values\n",
    "print(player_stats.count())"
   ]
  },
  {
   "cell_type": "code",
   "execution_count": 56,
   "id": "3bccac98",
   "metadata": {},
   "outputs": [
    {
     "name": "stdout",
     "output_type": "stream",
     "text": [
      "playerID         0\n",
      "yearID           0\n",
      "stint            0\n",
      "teamID           0\n",
      "lgID           738\n",
      "G                0\n",
      "AB               0\n",
      "R                0\n",
      "H                0\n",
      "2B               0\n",
      "3B               0\n",
      "HR               0\n",
      "RBI            756\n",
      "SB            2368\n",
      "CS           23541\n",
      "BB               0\n",
      "SO            2100\n",
      "IBB          36651\n",
      "HBP           2817\n",
      "SH            6069\n",
      "SF           36104\n",
      "GIDP         25441\n",
      "G_all            2\n",
      "GS            8983\n",
      "G_batting        2\n",
      "G_defense     7716\n",
      "G_p              2\n",
      "G_c              2\n",
      "G_1b             2\n",
      "G_2b             2\n",
      "G_3b             2\n",
      "G_ss             2\n",
      "G_lf             2\n",
      "G_cf             2\n",
      "G_rf             2\n",
      "G_of             2\n",
      "G_dh          1269\n",
      "G_ph          8983\n",
      "G_pr          8983\n",
      "dtype: int64\n"
     ]
    }
   ],
   "source": [
    "#subtract the number of non-missing values from the total value to get the number of missing values per row\n",
    "num_rows = player_stats.shape[0]\n",
    "num_missing = num_rows - player_stats.count()\n",
    "print(num_missing)"
   ]
  },
  {
   "cell_type": "code",
   "execution_count": 57,
   "id": "ff393eac",
   "metadata": {},
   "outputs": [
    {
     "name": "stdout",
     "output_type": "stream",
     "text": [
      "172543\n"
     ]
    }
   ],
   "source": [
    "#import numpy library\n",
    "#count the number of total missing values\n",
    "import numpy as np\n",
    "print(np.count_nonzero(player_stats.isnull()))"
   ]
  },
  {
   "cell_type": "code",
   "execution_count": 58,
   "id": "93d24f4f",
   "metadata": {},
   "outputs": [
    {
     "name": "stdout",
     "output_type": "stream",
     "text": [
      "playerID      object\n",
      "yearID         int64\n",
      "stint          int64\n",
      "teamID        object\n",
      "lgID          object\n",
      "G              int64\n",
      "AB             int64\n",
      "R              int64\n",
      "H              int64\n",
      "2B             int64\n",
      "3B             int64\n",
      "HR             int64\n",
      "RBI          float64\n",
      "SB           float64\n",
      "CS           float64\n",
      "BB             int64\n",
      "SO           float64\n",
      "IBB          float64\n",
      "HBP          float64\n",
      "SH           float64\n",
      "SF           float64\n",
      "GIDP         float64\n",
      "G_all        float64\n",
      "GS           float64\n",
      "G_batting    float64\n",
      "G_defense    float64\n",
      "G_p          float64\n",
      "G_c          float64\n",
      "G_1b         float64\n",
      "G_2b         float64\n",
      "G_3b         float64\n",
      "G_ss         float64\n",
      "G_lf         float64\n",
      "G_cf         float64\n",
      "G_rf         float64\n",
      "G_of         float64\n",
      "G_dh         float64\n",
      "G_ph         float64\n",
      "G_pr         float64\n",
      "dtype: object\n"
     ]
    }
   ],
   "source": [
    "#view data types to help determine what missing data looks like\n",
    "print(player_stats.dtypes)"
   ]
  },
  {
   "cell_type": "code",
   "execution_count": 59,
   "id": "6cb00519",
   "metadata": {},
   "outputs": [
    {
     "name": "stdout",
     "output_type": "stream",
     "text": [
      "         playerID  yearID  stint teamID  lgID   G   AB   R   H  2B  ...  G_2b  \\\n",
      "0       abercda01    1871      1    TRO  Nolg   1    4   0   0   0  ...   0.0   \n",
      "1        addybo01    1871      1    RC1  Nolg  25  118  30  32   6  ...  22.0   \n",
      "2       allisar01    1871      1    CL1  Nolg  29  137  28  40   4  ...   2.0   \n",
      "3       allisdo01    1871      1    WS3  Nolg  27  133  28  44  10  ...   0.0   \n",
      "4       ansonca01    1871      1    RC1  Nolg  25  120  29  39  11  ...   2.0   \n",
      "...           ...     ...    ...    ...   ...  ..  ...  ..  ..  ..  ...   ...   \n",
      "107424  zimmejo02    2019      1    DET    AL  23    2   0   0   0  ...   0.0   \n",
      "107425  zimmeky01    2019      1    KCA    AL  15    0   0   0   0  ...   0.0   \n",
      "107426  zimmery01    2019      1    WAS    NL  52  171  20  44   9  ...   0.0   \n",
      "107427  zobribe01    2019      1    CHN    NL  47  150  24  39   5  ...  32.0   \n",
      "107428  zuninmi01    2019      1    TBA    AL  90  266  30  44  10  ...   0.0   \n",
      "\n",
      "        G_3b  G_ss  G_lf  G_cf  G_rf  G_of  G_dh  G_ph  G_pr  \n",
      "0        0.0   1.0   0.0   0.0   0.0   0.0   0.0   0.0   0.0  \n",
      "1        0.0   3.0   0.0   0.0   0.0   0.0   0.0   0.0   0.0  \n",
      "2        0.0   0.0   0.0  29.0   0.0  29.0   0.0   0.0   0.0  \n",
      "3        0.0   0.0   0.0   0.0   0.0   0.0   0.0   0.0   0.0  \n",
      "4       20.0   0.0   1.0   0.0   0.0   1.0   0.0   0.0   0.0  \n",
      "...      ...   ...   ...   ...   ...   ...   ...   ...   ...  \n",
      "107424   0.0   0.0   0.0   0.0   0.0   0.0   0.0   0.0   0.0  \n",
      "107425   0.0   0.0   0.0   0.0   0.0   0.0   0.0   0.0   0.0  \n",
      "107426   0.0   0.0   0.0   0.0   0.0   0.0   3.0   7.0   0.0  \n",
      "107427   0.0   1.0   6.0   0.0  13.0  17.0   1.0   5.0   0.0  \n",
      "107428   0.0   0.0   0.0   0.0   0.0   0.0   0.0   3.0   0.0  \n",
      "\n",
      "[107429 rows x 39 columns]\n"
     ]
    }
   ],
   "source": [
    "#missing data in the lgID column is because there was no leagues early in baseball history\n",
    "#to remove missing data from the lgID column, we will fill in the no values with the object 'Nolg' for No League\n",
    "player_stats['lgID'].fillna('Nolg', inplace=True)\n",
    "print(player_stats)"
   ]
  },
  {
   "cell_type": "code",
   "execution_count": 60,
   "id": "3cf0a20c",
   "metadata": {},
   "outputs": [
    {
     "name": "stdout",
     "output_type": "stream",
     "text": [
      "         playerID  yearID  stint teamID  lgID   G   AB   R   H  2B  ...  G_2b  \\\n",
      "0       abercda01    1871      1    TRO  Nolg   1    4   0   0   0  ...   0.0   \n",
      "1        addybo01    1871      1    RC1  Nolg  25  118  30  32   6  ...  22.0   \n",
      "2       allisar01    1871      1    CL1  Nolg  29  137  28  40   4  ...   2.0   \n",
      "3       allisdo01    1871      1    WS3  Nolg  27  133  28  44  10  ...   0.0   \n",
      "4       ansonca01    1871      1    RC1  Nolg  25  120  29  39  11  ...   2.0   \n",
      "...           ...     ...    ...    ...   ...  ..  ...  ..  ..  ..  ...   ...   \n",
      "107424  zimmejo02    2019      1    DET    AL  23    2   0   0   0  ...   0.0   \n",
      "107425  zimmeky01    2019      1    KCA    AL  15    0   0   0   0  ...   0.0   \n",
      "107426  zimmery01    2019      1    WAS    NL  52  171  20  44   9  ...   0.0   \n",
      "107427  zobribe01    2019      1    CHN    NL  47  150  24  39   5  ...  32.0   \n",
      "107428  zuninmi01    2019      1    TBA    AL  90  266  30  44  10  ...   0.0   \n",
      "\n",
      "        G_3b  G_ss  G_lf  G_cf  G_rf  G_of  G_dh  G_ph  G_pr  \n",
      "0        0.0   1.0   0.0   0.0   0.0   0.0   0.0   0.0   0.0  \n",
      "1        0.0   3.0   0.0   0.0   0.0   0.0   0.0   0.0   0.0  \n",
      "2        0.0   0.0   0.0  29.0   0.0  29.0   0.0   0.0   0.0  \n",
      "3        0.0   0.0   0.0   0.0   0.0   0.0   0.0   0.0   0.0  \n",
      "4       20.0   0.0   1.0   0.0   0.0   1.0   0.0   0.0   0.0  \n",
      "...      ...   ...   ...   ...   ...   ...   ...   ...   ...  \n",
      "107424   0.0   0.0   0.0   0.0   0.0   0.0   0.0   0.0   0.0  \n",
      "107425   0.0   0.0   0.0   0.0   0.0   0.0   0.0   0.0   0.0  \n",
      "107426   0.0   0.0   0.0   0.0   0.0   0.0   3.0   7.0   0.0  \n",
      "107427   0.0   1.0   6.0   0.0  13.0  17.0   1.0   5.0   0.0  \n",
      "107428   0.0   0.0   0.0   0.0   0.0   0.0   0.0   3.0   0.0  \n",
      "\n",
      "[107429 rows x 39 columns]\n"
     ]
    }
   ],
   "source": [
    "#for the data that was part of the batting dataset,\n",
    "#some statistics were not collected early on in the history of baseball\n",
    "#we will fill that data with zeros one column at a time\n",
    "player_stats['RBI'].fillna(0, inplace=True)\n",
    "player_stats['SB'].fillna(0, inplace=True)\n",
    "player_stats['CS'].fillna(0, inplace=True)\n",
    "player_stats['SO'].fillna(0, inplace=True)\n",
    "player_stats['IBB'].fillna(0, inplace=True)\n",
    "player_stats['HBP'].fillna(0, inplace=True)\n",
    "player_stats['SH'].fillna(0, inplace=True)\n",
    "player_stats['SF'].fillna(0, inplace=True)\n",
    "player_stats['GIDP'].fillna(0, inplace=True)\n",
    "print(player_stats)"
   ]
  },
  {
   "cell_type": "code",
   "execution_count": 61,
   "id": "3613a56d",
   "metadata": {},
   "outputs": [
    {
     "name": "stdout",
     "output_type": "stream",
     "text": [
      "playerID        0\n",
      "yearID          0\n",
      "stint           0\n",
      "teamID          0\n",
      "lgID            0\n",
      "G               0\n",
      "AB              0\n",
      "R               0\n",
      "H               0\n",
      "2B              0\n",
      "3B              0\n",
      "HR              0\n",
      "RBI             0\n",
      "SB              0\n",
      "CS              0\n",
      "BB              0\n",
      "SO              0\n",
      "IBB             0\n",
      "HBP             0\n",
      "SH              0\n",
      "SF              0\n",
      "GIDP            0\n",
      "G_all           2\n",
      "GS           8983\n",
      "G_batting       2\n",
      "G_defense    7716\n",
      "G_p             2\n",
      "G_c             2\n",
      "G_1b            2\n",
      "G_2b            2\n",
      "G_3b            2\n",
      "G_ss            2\n",
      "G_lf            2\n",
      "G_cf            2\n",
      "G_rf            2\n",
      "G_of            2\n",
      "G_dh         1269\n",
      "G_ph         8983\n",
      "G_pr         8983\n",
      "dtype: int64\n"
     ]
    }
   ],
   "source": [
    "#checking the number of missing values again\n",
    "num_rows = player_stats.shape[0]\n",
    "num_missing = num_rows - player_stats.count()\n",
    "print(num_missing)"
   ]
  },
  {
   "cell_type": "code",
   "execution_count": 62,
   "id": "5f04dd3c",
   "metadata": {},
   "outputs": [
    {
     "name": "stdout",
     "output_type": "stream",
     "text": [
      "         playerID  yearID  stint teamID  lgID   G   AB   R   H  2B  ...  G_2b  \\\n",
      "0       abercda01    1871      1    TRO  Nolg   1    4   0   0   0  ...   0.0   \n",
      "1        addybo01    1871      1    RC1  Nolg  25  118  30  32   6  ...  22.0   \n",
      "2       allisar01    1871      1    CL1  Nolg  29  137  28  40   4  ...   2.0   \n",
      "3       allisdo01    1871      1    WS3  Nolg  27  133  28  44  10  ...   0.0   \n",
      "4       ansonca01    1871      1    RC1  Nolg  25  120  29  39  11  ...   2.0   \n",
      "...           ...     ...    ...    ...   ...  ..  ...  ..  ..  ..  ...   ...   \n",
      "107424  zimmejo02    2019      1    DET    AL  23    2   0   0   0  ...   0.0   \n",
      "107425  zimmeky01    2019      1    KCA    AL  15    0   0   0   0  ...   0.0   \n",
      "107426  zimmery01    2019      1    WAS    NL  52  171  20  44   9  ...   0.0   \n",
      "107427  zobribe01    2019      1    CHN    NL  47  150  24  39   5  ...  32.0   \n",
      "107428  zuninmi01    2019      1    TBA    AL  90  266  30  44  10  ...   0.0   \n",
      "\n",
      "        G_3b  G_ss  G_lf  G_cf  G_rf  G_of  G_dh  G_ph  G_pr  \n",
      "0        0.0   1.0   0.0   0.0   0.0   0.0   0.0   0.0   0.0  \n",
      "1        0.0   3.0   0.0   0.0   0.0   0.0   0.0   0.0   0.0  \n",
      "2        0.0   0.0   0.0  29.0   0.0  29.0   0.0   0.0   0.0  \n",
      "3        0.0   0.0   0.0   0.0   0.0   0.0   0.0   0.0   0.0  \n",
      "4       20.0   0.0   1.0   0.0   0.0   1.0   0.0   0.0   0.0  \n",
      "...      ...   ...   ...   ...   ...   ...   ...   ...   ...  \n",
      "107424   0.0   0.0   0.0   0.0   0.0   0.0   0.0   0.0   0.0  \n",
      "107425   0.0   0.0   0.0   0.0   0.0   0.0   0.0   0.0   0.0  \n",
      "107426   0.0   0.0   0.0   0.0   0.0   0.0   3.0   7.0   0.0  \n",
      "107427   0.0   1.0   6.0   0.0  13.0  17.0   1.0   5.0   0.0  \n",
      "107428   0.0   0.0   0.0   0.0   0.0   0.0   0.0   3.0   0.0  \n",
      "\n",
      "[107429 rows x 39 columns]\n"
     ]
    }
   ],
   "source": [
    "#The data from the appearance table includes information about player appearance in games, like:\n",
    "#games started, if they batted and/or played defense, what possition played, \n",
    "#or if they were a designated hitter, pinch hitter, etc.\n",
    "#I am going to fill all the missing values with zeros at once\n",
    "player_stats.fillna(0, inplace=True)\n",
    "print(player_stats)"
   ]
  },
  {
   "cell_type": "code",
   "execution_count": 63,
   "id": "c5b9c57f",
   "metadata": {},
   "outputs": [
    {
     "name": "stdout",
     "output_type": "stream",
     "text": [
      "playerID     0\n",
      "yearID       0\n",
      "stint        0\n",
      "teamID       0\n",
      "lgID         0\n",
      "G            0\n",
      "AB           0\n",
      "R            0\n",
      "H            0\n",
      "2B           0\n",
      "3B           0\n",
      "HR           0\n",
      "RBI          0\n",
      "SB           0\n",
      "CS           0\n",
      "BB           0\n",
      "SO           0\n",
      "IBB          0\n",
      "HBP          0\n",
      "SH           0\n",
      "SF           0\n",
      "GIDP         0\n",
      "G_all        0\n",
      "GS           0\n",
      "G_batting    0\n",
      "G_defense    0\n",
      "G_p          0\n",
      "G_c          0\n",
      "G_1b         0\n",
      "G_2b         0\n",
      "G_3b         0\n",
      "G_ss         0\n",
      "G_lf         0\n",
      "G_cf         0\n",
      "G_rf         0\n",
      "G_of         0\n",
      "G_dh         0\n",
      "G_ph         0\n",
      "G_pr         0\n",
      "dtype: int64\n"
     ]
    }
   ],
   "source": [
    "#check for missing values again\n",
    "num_rows = player_stats.shape[0]\n",
    "num_missing = num_rows - player_stats.count()\n",
    "print(num_missing)"
   ]
  },
  {
   "cell_type": "code",
   "execution_count": 64,
   "id": "2876842a",
   "metadata": {},
   "outputs": [
    {
     "name": "stdout",
     "output_type": "stream",
     "text": [
      "0\n"
     ]
    }
   ],
   "source": [
    "#counting missing values to ensure there are zero missing values\n",
    "print(np.count_nonzero(player_stats.isnull()))"
   ]
  },
  {
   "cell_type": "code",
   "execution_count": 65,
   "id": "80606589",
   "metadata": {},
   "outputs": [],
   "source": [
    "player_stats.to_csv('Assignment5_Player_Stats.csv', index=False)"
   ]
  },
  {
   "cell_type": "code",
   "execution_count": null,
   "id": "f00ea4dc",
   "metadata": {},
   "outputs": [],
   "source": []
  }
 ],
 "metadata": {
  "kernelspec": {
   "display_name": "Python 3 (ipykernel)",
   "language": "python",
   "name": "python3"
  },
  "language_info": {
   "codemirror_mode": {
    "name": "ipython",
    "version": 3
   },
   "file_extension": ".py",
   "mimetype": "text/x-python",
   "name": "python",
   "nbconvert_exporter": "python",
   "pygments_lexer": "ipython3",
   "version": "3.9.7"
  }
 },
 "nbformat": 4,
 "nbformat_minor": 5
}

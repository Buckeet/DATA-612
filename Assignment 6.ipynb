{
 "cells": [
  {
   "cell_type": "code",
   "execution_count": 50,
   "id": "b28948d2",
   "metadata": {},
   "outputs": [],
   "source": [
    "#import pandas\n",
    "import pandas as pd\n",
    "\n",
    "#impoprt csv file\n",
    "#this is a file of baseball player salaries\n",
    "salaries = pd.read_csv\\\n",
    "('https://raw.githubusercontent.com/frankData612/data_612/master/baseballdatabank-master/core/Salaries.csv')"
   ]
  },
  {
   "cell_type": "code",
   "execution_count": 51,
   "id": "98767b66",
   "metadata": {},
   "outputs": [
    {
     "name": "stdout",
     "output_type": "stream",
     "text": [
      "       yearID teamID lgID   playerID    salary\n",
      "0        1985    ATL   NL  barkele01    870000\n",
      "1        1985    ATL   NL  bedrost01    550000\n",
      "2        1985    ATL   NL  benedbr01    545000\n",
      "3        1985    ATL   NL   campri01    633333\n",
      "4        1985    ATL   NL  ceronri01    625000\n",
      "...       ...    ...  ...        ...       ...\n",
      "26423    2016    WAS   NL  strasst01  10400000\n",
      "26424    2016    WAS   NL  taylomi02    524000\n",
      "26425    2016    WAS   NL  treinbl01    524900\n",
      "26426    2016    WAS   NL  werthja01  21733615\n",
      "26427    2016    WAS   NL  zimmery01  14000000\n",
      "\n",
      "[26428 rows x 5 columns]\n"
     ]
    }
   ],
   "source": [
    "#print the dataset to see how it is formated\n",
    "print(salaries)"
   ]
  },
  {
   "cell_type": "code",
   "execution_count": 52,
   "id": "2ebf4ec6",
   "metadata": {},
   "outputs": [
    {
     "name": "stdout",
     "output_type": "stream",
     "text": [
      "0\n"
     ]
    }
   ],
   "source": [
    "#check for missing values by using numpy library\n",
    "import numpy as np\n",
    "print(np.count_nonzero(salaries.isnull()))"
   ]
  },
  {
   "cell_type": "code",
   "execution_count": 53,
   "id": "2def659a",
   "metadata": {},
   "outputs": [
    {
     "name": "stdout",
     "output_type": "stream",
     "text": [
      "yearID       int64\n",
      "teamID      object\n",
      "lgID        object\n",
      "playerID    object\n",
      "salary       int64\n",
      "dtype: object\n"
     ]
    }
   ],
   "source": [
    "#check data types\n",
    "print(salaries.dtypes)"
   ]
  },
  {
   "cell_type": "code",
   "execution_count": 54,
   "id": "9194b337",
   "metadata": {},
   "outputs": [
    {
     "name": "stdout",
     "output_type": "stream",
     "text": [
      "<class 'pandas.core.frame.DataFrame'>\n",
      "RangeIndex: 26428 entries, 0 to 26427\n",
      "Data columns (total 5 columns):\n",
      " #   Column    Non-Null Count  Dtype   \n",
      "---  ------    --------------  -----   \n",
      " 0   yearID    26428 non-null  category\n",
      " 1   teamID    26428 non-null  object  \n",
      " 2   lgID      26428 non-null  object  \n",
      " 3   playerID  26428 non-null  object  \n",
      " 4   salary    26428 non-null  int64   \n",
      "dtypes: category(1), int64(1), object(3)\n",
      "memory usage: 853.1+ KB\n",
      "None\n"
     ]
    }
   ],
   "source": [
    "# convert salary (integer) from numeric value to category\n",
    "salaries['yearID'] = salaries['yearID'].astype('category')\n",
    "print(salaries.info())"
   ]
  },
  {
   "cell_type": "code",
   "execution_count": 55,
   "id": "748383c5",
   "metadata": {},
   "outputs": [
    {
     "name": "stdout",
     "output_type": "stream",
     "text": [
      "<class 'pandas.core.frame.DataFrame'>\n",
      "RangeIndex: 26428 entries, 0 to 26427\n",
      "Data columns (total 5 columns):\n",
      " #   Column    Non-Null Count  Dtype \n",
      "---  ------    --------------  ----- \n",
      " 0   yearID    26428 non-null  int16 \n",
      " 1   teamID    26428 non-null  object\n",
      " 2   lgID      26428 non-null  object\n",
      " 3   playerID  26428 non-null  object\n",
      " 4   salary    26428 non-null  int64 \n",
      "dtypes: int16(1), int64(1), object(3)\n",
      "memory usage: 877.6+ KB\n",
      "None\n"
     ]
    }
   ],
   "source": [
    "#convert salary (now category) back to a numeric value\n",
    "#but this time reducing the size of the dtype by using to_numeric AND downcast\n",
    "salaries['yearID'] = pd.to_numeric(salaries['yearID'], downcast='integer')\n",
    "print(salaries.info())"
   ]
  },
  {
   "cell_type": "code",
   "execution_count": 56,
   "id": "a6ee5f52",
   "metadata": {},
   "outputs": [
    {
     "name": "stdout",
     "output_type": "stream",
     "text": [
      "<class 'pandas.core.frame.DataFrame'>\n",
      "RangeIndex: 26428 entries, 0 to 26427\n",
      "Data columns (total 5 columns):\n",
      " #   Column    Non-Null Count  Dtype \n",
      "---  ------    --------------  ----- \n",
      " 0   yearID    26428 non-null  int16 \n",
      " 1   teamID    26428 non-null  object\n",
      " 2   lgID      26428 non-null  object\n",
      " 3   playerID  26428 non-null  object\n",
      " 4   salary    26428 non-null  object\n",
      "dtypes: int16(1), object(4)\n",
      "memory usage: 877.6+ KB\n",
      "None\n"
     ]
    }
   ],
   "source": [
    "#convert salary from integer to string\n",
    "salaries['salary'] = salaries['salary'].astype(str)\n",
    "print(salaries.info())"
   ]
  },
  {
   "cell_type": "code",
   "execution_count": 57,
   "id": "7d4121a4",
   "metadata": {},
   "outputs": [
    {
     "name": "stdout",
     "output_type": "stream",
     "text": [
      "<class 'pandas.core.frame.DataFrame'>\n",
      "RangeIndex: 26428 entries, 0 to 26427\n",
      "Data columns (total 5 columns):\n",
      " #   Column    Non-Null Count  Dtype \n",
      "---  ------    --------------  ----- \n",
      " 0   yearID    26428 non-null  int16 \n",
      " 1   teamID    26428 non-null  object\n",
      " 2   lgID      26428 non-null  object\n",
      " 3   playerID  26428 non-null  object\n",
      " 4   salary    26428 non-null  int32 \n",
      "dtypes: int16(1), int32(1), object(3)\n",
      "memory usage: 774.4+ KB\n",
      "None\n"
     ]
    }
   ],
   "source": [
    "#convert salary from string value back to a numeric value\n",
    "#use to_numeric AND downcast again, to reduce the size of the dtype\n",
    "salaries['salary'] = pd.to_numeric(salaries['salary'], downcast='integer')\n",
    "print(salaries.info())"
   ]
  },
  {
   "cell_type": "code",
   "execution_count": 58,
   "id": "18de9a0d",
   "metadata": {},
   "outputs": [
    {
     "name": "stdout",
     "output_type": "stream",
     "text": [
      "<class 'pandas.core.frame.DataFrame'>\n",
      "RangeIndex: 26428 entries, 0 to 26427\n",
      "Data columns (total 5 columns):\n",
      " #   Column    Non-Null Count  Dtype   \n",
      "---  ------    --------------  -----   \n",
      " 0   yearID    26428 non-null  int16   \n",
      " 1   teamID    26428 non-null  object  \n",
      " 2   lgID      26428 non-null  category\n",
      " 3   playerID  26428 non-null  object  \n",
      " 4   salary    26428 non-null  int32   \n",
      "dtypes: category(1), int16(1), int32(1), object(2)\n",
      "memory usage: 593.8+ KB\n",
      "None\n"
     ]
    }
   ],
   "source": [
    "#convert lgID to from string to category\n",
    "salaries['lgID'] = salaries['lgID'].astype('category')\n",
    "print(salaries.info())"
   ]
  },
  {
   "cell_type": "code",
   "execution_count": 61,
   "id": "fb5d15cc",
   "metadata": {},
   "outputs": [
    {
     "name": "stdout",
     "output_type": "stream",
     "text": [
      "<class 'pandas.core.frame.DataFrame'>\n",
      "RangeIndex: 26428 entries, 0 to 26427\n",
      "Data columns (total 5 columns):\n",
      " #   Column    Non-Null Count  Dtype   \n",
      "---  ------    --------------  -----   \n",
      " 0   yearID    26428 non-null  int16   \n",
      " 1   teamID    26428 non-null  category\n",
      " 2   lgID      26428 non-null  category\n",
      " 3   playerID  26428 non-null  object  \n",
      " 4   salary    26428 non-null  int32   \n",
      "dtypes: category(2), int16(1), int32(1), object(1)\n",
      "memory usage: 414.5+ KB\n",
      "None\n"
     ]
    }
   ],
   "source": [
    "#convert teamID from string to category\n",
    "salaries['teamID'] = salaries['teamID'].astype('category')\n",
    "print(salaries.info())"
   ]
  },
  {
   "cell_type": "code",
   "execution_count": null,
   "id": "9bc082f3",
   "metadata": {},
   "outputs": [],
   "source": []
  }
 ],
 "metadata": {
  "kernelspec": {
   "display_name": "Python 3 (ipykernel)",
   "language": "python",
   "name": "python3"
  },
  "language_info": {
   "codemirror_mode": {
    "name": "ipython",
    "version": 3
   },
   "file_extension": ".py",
   "mimetype": "text/x-python",
   "name": "python",
   "nbconvert_exporter": "python",
   "pygments_lexer": "ipython3",
   "version": "3.9.7"
  }
 },
 "nbformat": 4,
 "nbformat_minor": 5
}

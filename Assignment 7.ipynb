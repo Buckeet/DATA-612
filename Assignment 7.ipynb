{
 "cells": [
  {
   "cell_type": "code",
   "execution_count": 155,
   "id": "1eb5fe4a",
   "metadata": {},
   "outputs": [],
   "source": [
    "#import pandas and csv file\n",
    "#for this assignment, I'm going to use the stock data file\n",
    "\n",
    "import pandas as pd\n",
    "stocks = pd.read_csv('https://raw.githubusercontent.com/frankData612/data_612/master/stock_data/stocks_yahoo.csv')"
   ]
  },
  {
   "cell_type": "code",
   "execution_count": 156,
   "id": "80809bf2",
   "metadata": {},
   "outputs": [
    {
     "data": {
      "text/plain": [
       "no                     int64\n",
       "date                  object\n",
       "company_name          object\n",
       "price_at_close       float64\n",
       "price_change          object\n",
       "price_after_hours    float64\n",
       "previous_close       float64\n",
       "today opened         float64\n",
       "price range           object\n",
       "52 week range         object\n",
       "volume                object\n",
       "average volume       float64\n",
       "market cap            object\n",
       "beta (3Y Monthly)    float64\n",
       "PE Ratio             float64\n",
       "EPS                  float64\n",
       "earnings date         object\n",
       "Dividend Yield        object\n",
       "1Y target est        float64\n",
       "dtype: object"
      ]
     },
     "execution_count": 156,
     "metadata": {},
     "output_type": "execute_result"
    }
   ],
   "source": [
    "#check data types in the dataframe\n",
    "\n",
    "stocks.dtypes"
   ]
  },
  {
   "cell_type": "code",
   "execution_count": 157,
   "id": "622dc1c5",
   "metadata": {},
   "outputs": [
    {
     "data": {
      "text/plain": [
       "0                                  GOOG - Alphabet Inc.\n",
       "1                                 GOOGL - Alphabet Inc.\n",
       "2     IBM - International Business Machines Corporation\n",
       "3                          MSFT - Microsoft Corporation\n",
       "4                                     AAPL - Apple Inc.\n",
       "5                               AMZN - Amazon.com, Inc.\n",
       "6                       CGC - Canopy Growth Corporation\n",
       "7                             ORCL - Oracle Corporation\n",
       "8                                    FIVN - Five9, Inc.\n",
       "9                            JPM - JPMorgan Chase & Co.\n",
       "10                                   USB - U.S. Bancorp\n",
       "11          AEP - American Electric Power Company, Inc.\n",
       "12                SCHW - The Charles Schwab Corporation\n",
       "13                    UPS - United Parcel Service, Inc.\n",
       "14                       UBER - Uber Technologies, Inc.\n",
       "15                                    LYFT - Lyft, Inc.\n",
       "16                                     NKE - NIKE, Inc.\n",
       "17                              BA - The Boeing Company\n",
       "18                        XOM - Exxon Mobil Corporation\n",
       "19               OXY - Occidental Petroleum Corporation\n",
       "Name: company_name, dtype: object"
      ]
     },
     "execution_count": 157,
     "metadata": {},
     "output_type": "execute_result"
    }
   ],
   "source": [
    "#take a quick look at what our data looks like\n",
    "\n",
    "stocks['company_name'].head(20)"
   ]
  },
  {
   "cell_type": "code",
   "execution_count": 158,
   "id": "99916b85",
   "metadata": {},
   "outputs": [
    {
     "name": "stdout",
     "output_type": "stream",
     "text": [
      "          no         date                                       company_name  \\\n",
      "0          1  Nov 21 2019                               GOOG - Alphabet Inc.   \n",
      "1          2  Nov 21 2019                              GOOGL - Alphabet Inc.   \n",
      "2          3  Nov 21 2019  IBM - International Business Machines Corporation   \n",
      "3          4  Nov 21 2019                       MSFT - Microsoft Corporation   \n",
      "4          5  Nov 21 2019                                  AAPL - Apple Inc.   \n",
      "...      ...          ...                                                ...   \n",
      "67900  67901  Apr 28 2020                                   FLEX - Flex Ltd.   \n",
      "67901  67902  Apr 28 2020                    MEI - Methode Electronics, Inc.   \n",
      "67902  67903  Apr 28 2020                        IEC - IEC Electronics Corp.   \n",
      "67903  67904  Apr 28 2020                       MGLN - Magellan Health, Inc.   \n",
      "67904  67905  Apr 28 2020                                 ZS - Zscaler, Inc.   \n",
      "\n",
      "       price_at_close    price_change  price_after_hours  previous_close  \\\n",
      "0             1301.35  -1.70 (-0.13%)            1301.35         1303.05   \n",
      "1             1300.14  -1.72 (-0.13%)            1300.14         1301.86   \n",
      "2              133.84  +0.64 (+0.48%)             133.84          133.20   \n",
      "3              149.48  -0.14 (-0.09%)             149.48          149.62   \n",
      "4              262.01  -1.18 (-0.45%)             262.01          263.19   \n",
      "...               ...             ...                ...             ...   \n",
      "67900            9.11  +0.30 (+3.41%)               9.11            8.81   \n",
      "67901           29.84  +0.32 (+1.08%)              29.84           29.52   \n",
      "67902            7.01    0.00 (0.00%)               7.01            7.01   \n",
      "67903           55.11  -0.03 (-0.05%)              55.11           55.14   \n",
      "67904           66.72  -3.75 (-5.32%)              66.72           70.47   \n",
      "\n",
      "       today opened          price range      52 week range      volume  \\\n",
      "0           1301.48  1,293.01 - 1,312.45  970.11 - 1,335.53    825205.0   \n",
      "1           1299.25  1,290.75 - 1,311.04  977.66 - 1,333.92   1058179.0   \n",
      "2            133.40      132.98 - 134.17    105.94 - 152.95   2732256.0   \n",
      "3            149.40      148.51 - 149.80     93.96 - 151.33  16125077.0   \n",
      "4            263.69      261.18 - 264.01    142.00 - 268.00  28768117.0   \n",
      "...             ...                  ...                ...         ...   \n",
      "67900          9.11          8.87 - 9.31       5.36 - 14.00  4175426.00   \n",
      "67901         30.19        29.70 - 30.75      21.76 - 41.70   206184.00   \n",
      "67902          7.10          6.93 - 7.10        5.00 - 9.57     3880.00   \n",
      "67903         54.74        53.28 - 56.21      30.60 - 81.04   167075.00   \n",
      "67904         71.00        66.26 - 71.20      35.00 - 89.54  3035697.00   \n",
      "\n",
      "       average volume market cap  beta (3Y Monthly)  PE Ratio    EPS  \\\n",
      "0           1280155.0   897.113B               1.01     27.93  46.60   \n",
      "1           1296875.0   897.098B               1.01     27.90  46.60   \n",
      "2           3483052.0   118.534B               1.34     15.55   8.60   \n",
      "3          22813109.0      1.14T               1.23     28.20   5.30   \n",
      "4          25813040.0     1.184T               1.25     22.04  11.89   \n",
      "...               ...        ...                ...       ...    ...   \n",
      "67900       5924769.0     4.591B               1.88       NaN  -0.05   \n",
      "67901        236257.0     1.107B               1.43      9.72   3.07   \n",
      "67902         34352.0    72.812M               0.94     15.24   0.46   \n",
      "67903        193042.0     1.361B               0.97     24.17   2.28   \n",
      "67904       3062403.0      8.63B               0.54       NaN  -0.50   \n",
      "\n",
      "                     earnings date Dividend Yield  1Y target est  \\\n",
      "0                              NaN      N/A (N/A)        1487.52   \n",
      "1        Feb 3, 2020 - Feb 7, 2020      N/A (N/A)        1459.33   \n",
      "2                        21-Jan-20   6.48 (4.86%)         148.30   \n",
      "3       Jan 28, 2020 - Feb 3, 2020   2.04 (1.36%)         160.16   \n",
      "4      Jan 27, 2020 - Jan 31, 2020   3.08 (1.16%)         257.21   \n",
      "...                            ...            ...            ...   \n",
      "67900                     7-May-20      N/A (N/A)          12.83   \n",
      "67901  Jun 18, 2020 - Jun 22, 2020   0.44 (1.49%)          33.33   \n",
      "67902                     6-May-20      N/A (N/A)          11.50   \n",
      "67903                    11-May-20      N/A (N/A)          67.67   \n",
      "67904                    20-Feb-20      N/A (N/A)          67.62   \n",
      "\n",
      "      Company_Abbreviation_Cleaned  \n",
      "0                             GOOG  \n",
      "1                            GOOGL  \n",
      "2                              IBM  \n",
      "3                             MSFT  \n",
      "4                             AAPL  \n",
      "...                            ...  \n",
      "67900                         FLEX  \n",
      "67901                          MEI  \n",
      "67902                          IEC  \n",
      "67903                         MGLN  \n",
      "67904                           ZS  \n",
      "\n",
      "[67905 rows x 20 columns]\n"
     ]
    }
   ],
   "source": [
    "# creating a new column named 'Company_Abbreviation_Cleaned'\n",
    "# in the data set, the company abbreviation is the capital letters at the beginning of the string\n",
    "# to extract that abbreviation we can use regex\n",
    "# ^ refers to the start of the string\n",
    "# [A-Z] indicates capital letters\n",
    "# + indicates 1 or more\n",
    "\n",
    "stocks['Company_Abbreviation_Cleaned'] = stocks['company_name'].str.extract(r'(^[A-Z]+)')\n",
    "print(stocks)"
   ]
  },
  {
   "cell_type": "code",
   "execution_count": 159,
   "id": "3de36553",
   "metadata": {},
   "outputs": [
    {
     "name": "stdout",
     "output_type": "stream",
     "text": [
      "          no         date                                       company_name  \\\n",
      "0          1  Nov 21 2019                               GOOG - Alphabet Inc.   \n",
      "1          2  Nov 21 2019                              GOOGL - Alphabet Inc.   \n",
      "2          3  Nov 21 2019  IBM - International Business Machines Corporation   \n",
      "3          4  Nov 21 2019                       MSFT - Microsoft Corporation   \n",
      "4          5  Nov 21 2019                                  AAPL - Apple Inc.   \n",
      "...      ...          ...                                                ...   \n",
      "67900  67901  Apr 28 2020                                   FLEX - Flex Ltd.   \n",
      "67901  67902  Apr 28 2020                    MEI - Methode Electronics, Inc.   \n",
      "67902  67903  Apr 28 2020                        IEC - IEC Electronics Corp.   \n",
      "67903  67904  Apr 28 2020                       MGLN - Magellan Health, Inc.   \n",
      "67904  67905  Apr 28 2020                                 ZS - Zscaler, Inc.   \n",
      "\n",
      "       price_at_close    price_change  price_after_hours  previous_close  \\\n",
      "0             1301.35  -1.70 (-0.13%)            1301.35         1303.05   \n",
      "1             1300.14  -1.72 (-0.13%)            1300.14         1301.86   \n",
      "2              133.84  +0.64 (+0.48%)             133.84          133.20   \n",
      "3              149.48  -0.14 (-0.09%)             149.48          149.62   \n",
      "4              262.01  -1.18 (-0.45%)             262.01          263.19   \n",
      "...               ...             ...                ...             ...   \n",
      "67900            9.11  +0.30 (+3.41%)               9.11            8.81   \n",
      "67901           29.84  +0.32 (+1.08%)              29.84           29.52   \n",
      "67902            7.01    0.00 (0.00%)               7.01            7.01   \n",
      "67903           55.11  -0.03 (-0.05%)              55.11           55.14   \n",
      "67904           66.72  -3.75 (-5.32%)              66.72           70.47   \n",
      "\n",
      "       today opened          price range      52 week range  ...  \\\n",
      "0           1301.48  1,293.01 - 1,312.45  970.11 - 1,335.53  ...   \n",
      "1           1299.25  1,290.75 - 1,311.04  977.66 - 1,333.92  ...   \n",
      "2            133.40      132.98 - 134.17    105.94 - 152.95  ...   \n",
      "3            149.40      148.51 - 149.80     93.96 - 151.33  ...   \n",
      "4            263.69      261.18 - 264.01    142.00 - 268.00  ...   \n",
      "...             ...                  ...                ...  ...   \n",
      "67900          9.11          8.87 - 9.31       5.36 - 14.00  ...   \n",
      "67901         30.19        29.70 - 30.75      21.76 - 41.70  ...   \n",
      "67902          7.10          6.93 - 7.10        5.00 - 9.57  ...   \n",
      "67903         54.74        53.28 - 56.21      30.60 - 81.04  ...   \n",
      "67904         71.00        66.26 - 71.20      35.00 - 89.54  ...   \n",
      "\n",
      "      average volume  market cap beta (3Y Monthly)  PE Ratio    EPS  \\\n",
      "0          1280155.0    897.113B              1.01     27.93  46.60   \n",
      "1          1296875.0    897.098B              1.01     27.90  46.60   \n",
      "2          3483052.0    118.534B              1.34     15.55   8.60   \n",
      "3         22813109.0       1.14T              1.23     28.20   5.30   \n",
      "4         25813040.0      1.184T              1.25     22.04  11.89   \n",
      "...              ...         ...               ...       ...    ...   \n",
      "67900      5924769.0      4.591B              1.88       NaN  -0.05   \n",
      "67901       236257.0      1.107B              1.43      9.72   3.07   \n",
      "67902        34352.0     72.812M              0.94     15.24   0.46   \n",
      "67903       193042.0      1.361B              0.97     24.17   2.28   \n",
      "67904      3062403.0       8.63B              0.54       NaN  -0.50   \n",
      "\n",
      "                     earnings date Dividend Yield 1Y target est  \\\n",
      "0                              NaN      N/A (N/A)       1487.52   \n",
      "1        Feb 3, 2020 - Feb 7, 2020      N/A (N/A)       1459.33   \n",
      "2                        21-Jan-20   6.48 (4.86%)        148.30   \n",
      "3       Jan 28, 2020 - Feb 3, 2020   2.04 (1.36%)        160.16   \n",
      "4      Jan 27, 2020 - Jan 31, 2020   3.08 (1.16%)        257.21   \n",
      "...                            ...            ...           ...   \n",
      "67900                     7-May-20      N/A (N/A)         12.83   \n",
      "67901  Jun 18, 2020 - Jun 22, 2020   0.44 (1.49%)         33.33   \n",
      "67902                     6-May-20      N/A (N/A)         11.50   \n",
      "67903                    11-May-20      N/A (N/A)         67.67   \n",
      "67904                    20-Feb-20      N/A (N/A)         67.62   \n",
      "\n",
      "       Company_Abbreviation_Cleaned  \\\n",
      "0                              GOOG   \n",
      "1                             GOOGL   \n",
      "2                               IBM   \n",
      "3                              MSFT   \n",
      "4                              AAPL   \n",
      "...                             ...   \n",
      "67900                          FLEX   \n",
      "67901                           MEI   \n",
      "67902                           IEC   \n",
      "67903                          MGLN   \n",
      "67904                            ZS   \n",
      "\n",
      "                              Company_Name_Cleaned  \n",
      "0                                    Alphabet Inc.  \n",
      "1                                    Alphabet Inc.  \n",
      "2      International Business Machines Corporation  \n",
      "3                            Microsoft Corporation  \n",
      "4                                       Apple Inc.  \n",
      "...                                            ...  \n",
      "67900                                    Flex Ltd.  \n",
      "67901                    Methode Electronics, Inc.  \n",
      "67902                        IEC Electronics Corp.  \n",
      "67903                        Magellan Health, Inc.  \n",
      "67904                                Zscaler, Inc.  \n",
      "\n",
      "[67905 rows x 21 columns]\n"
     ]
    },
    {
     "name": "stderr",
     "output_type": "stream",
     "text": [
      "C:\\Users\\wilco\\AppData\\Local\\Temp/ipykernel_7124/2464904365.py:11: FutureWarning: The default value of regex will change from True to False in a future version.\n",
      "  stocks['Company_Name_Cleaned'] = stocks['company_name'].str.replace(r'(^[A-Z]+\\s\\W\\s)', '')\n"
     ]
    }
   ],
   "source": [
    "# create a new column titled 'Company_Name_Cleaned'\n",
    "# in this dataset I will replace the abbreviation at the start of the string with nothing ''\n",
    "# use regex to indicate what values will be replaced\n",
    "# ^ refers to the start of the string\n",
    "# [A-Z] indicates capital letters\n",
    "# + indicates 1 or more\n",
    "# \\s indicates a space\n",
    "# \\W indicate a non-alpha character (in this case, it's the '-' in the string)\n",
    "# \\s indicates a space\n",
    "\n",
    "stocks['Company_Name_Cleaned'] = stocks['company_name'].str.replace(r'(^[A-Z]+\\s\\W\\s)', '')\n",
    "print(stocks)"
   ]
  },
  {
   "cell_type": "code",
   "execution_count": 160,
   "id": "2cf9a79e",
   "metadata": {},
   "outputs": [
    {
     "name": "stdout",
     "output_type": "stream",
     "text": [
      "          no         date  price_at_close    price_change  price_after_hours  \\\n",
      "0          1  Nov 21 2019         1301.35  -1.70 (-0.13%)            1301.35   \n",
      "1          2  Nov 21 2019         1300.14  -1.72 (-0.13%)            1300.14   \n",
      "2          3  Nov 21 2019          133.84  +0.64 (+0.48%)             133.84   \n",
      "3          4  Nov 21 2019          149.48  -0.14 (-0.09%)             149.48   \n",
      "4          5  Nov 21 2019          262.01  -1.18 (-0.45%)             262.01   \n",
      "...      ...          ...             ...             ...                ...   \n",
      "67900  67901  Apr 28 2020            9.11  +0.30 (+3.41%)               9.11   \n",
      "67901  67902  Apr 28 2020           29.84  +0.32 (+1.08%)              29.84   \n",
      "67902  67903  Apr 28 2020            7.01    0.00 (0.00%)               7.01   \n",
      "67903  67904  Apr 28 2020           55.11  -0.03 (-0.05%)              55.11   \n",
      "67904  67905  Apr 28 2020           66.72  -3.75 (-5.32%)              66.72   \n",
      "\n",
      "       previous_close  today opened          price range      52 week range  \\\n",
      "0             1303.05       1301.48  1,293.01 - 1,312.45  970.11 - 1,335.53   \n",
      "1             1301.86       1299.25  1,290.75 - 1,311.04  977.66 - 1,333.92   \n",
      "2              133.20        133.40      132.98 - 134.17    105.94 - 152.95   \n",
      "3              149.62        149.40      148.51 - 149.80     93.96 - 151.33   \n",
      "4              263.19        263.69      261.18 - 264.01    142.00 - 268.00   \n",
      "...               ...           ...                  ...                ...   \n",
      "67900            8.81          9.11          8.87 - 9.31       5.36 - 14.00   \n",
      "67901           29.52         30.19        29.70 - 30.75      21.76 - 41.70   \n",
      "67902            7.01          7.10          6.93 - 7.10        5.00 - 9.57   \n",
      "67903           55.14         54.74        53.28 - 56.21      30.60 - 81.04   \n",
      "67904           70.47         71.00        66.26 - 71.20      35.00 - 89.54   \n",
      "\n",
      "           volume  average volume market cap  beta (3Y Monthly)  PE Ratio  \\\n",
      "0        825205.0       1280155.0   897.113B               1.01     27.93   \n",
      "1       1058179.0       1296875.0   897.098B               1.01     27.90   \n",
      "2       2732256.0       3483052.0   118.534B               1.34     15.55   \n",
      "3      16125077.0      22813109.0      1.14T               1.23     28.20   \n",
      "4      28768117.0      25813040.0     1.184T               1.25     22.04   \n",
      "...           ...             ...        ...                ...       ...   \n",
      "67900  4175426.00       5924769.0     4.591B               1.88       NaN   \n",
      "67901   206184.00        236257.0     1.107B               1.43      9.72   \n",
      "67902     3880.00         34352.0    72.812M               0.94     15.24   \n",
      "67903   167075.00        193042.0     1.361B               0.97     24.17   \n",
      "67904  3035697.00       3062403.0      8.63B               0.54       NaN   \n",
      "\n",
      "         EPS                earnings date Dividend Yield  1Y target est  \\\n",
      "0      46.60                          NaN      N/A (N/A)        1487.52   \n",
      "1      46.60    Feb 3, 2020 - Feb 7, 2020      N/A (N/A)        1459.33   \n",
      "2       8.60                    21-Jan-20   6.48 (4.86%)         148.30   \n",
      "3       5.30   Jan 28, 2020 - Feb 3, 2020   2.04 (1.36%)         160.16   \n",
      "4      11.89  Jan 27, 2020 - Jan 31, 2020   3.08 (1.16%)         257.21   \n",
      "...      ...                          ...            ...            ...   \n",
      "67900  -0.05                     7-May-20      N/A (N/A)          12.83   \n",
      "67901   3.07  Jun 18, 2020 - Jun 22, 2020   0.44 (1.49%)          33.33   \n",
      "67902   0.46                     6-May-20      N/A (N/A)          11.50   \n",
      "67903   2.28                    11-May-20      N/A (N/A)          67.67   \n",
      "67904  -0.50                    20-Feb-20      N/A (N/A)          67.62   \n",
      "\n",
      "      Company_Abbreviation_Cleaned  \\\n",
      "0                             GOOG   \n",
      "1                            GOOGL   \n",
      "2                              IBM   \n",
      "3                             MSFT   \n",
      "4                             AAPL   \n",
      "...                            ...   \n",
      "67900                         FLEX   \n",
      "67901                          MEI   \n",
      "67902                          IEC   \n",
      "67903                         MGLN   \n",
      "67904                           ZS   \n",
      "\n",
      "                              Company_Name_Cleaned  \n",
      "0                                    Alphabet Inc.  \n",
      "1                                    Alphabet Inc.  \n",
      "2      International Business Machines Corporation  \n",
      "3                            Microsoft Corporation  \n",
      "4                                       Apple Inc.  \n",
      "...                                            ...  \n",
      "67900                                    Flex Ltd.  \n",
      "67901                    Methode Electronics, Inc.  \n",
      "67902                        IEC Electronics Corp.  \n",
      "67903                        Magellan Health, Inc.  \n",
      "67904                                Zscaler, Inc.  \n",
      "\n",
      "[67905 rows x 20 columns]\n"
     ]
    }
   ],
   "source": [
    "#drop the 'company_name' column\n",
    "#create new dataframe\n",
    "\n",
    "stocks_cleaned = stocks.drop(['company_name'], axis=1)\n",
    "print(stocks_cleaned)"
   ]
  },
  {
   "cell_type": "code",
   "execution_count": 161,
   "id": "04b57e6a",
   "metadata": {},
   "outputs": [],
   "source": [
    "#save .csv file\n",
    "\n",
    "stocks_cleaned.to_csv('stocks_cleaned.csv', index=False)"
   ]
  },
  {
   "cell_type": "code",
   "execution_count": 162,
   "id": "4289ab9f",
   "metadata": {},
   "outputs": [
    {
     "name": "stdout",
     "output_type": "stream",
     "text": [
      "    index       no         date  price_at_close    price_change  \\\n",
      "0       3      4.0  Nov 21 2019          149.48  -0.14 (-0.09%)   \n",
      "1      59     60.0  Nov 22 2019          149.59  +0.11 (+0.07%)   \n",
      "2     263    264.0  Nov 25 2019          151.23  +1.64 (+1.10%)   \n",
      "3     617    618.0  Dec 04 2019          149.85  +0.54 (+0.36%)   \n",
      "4     762    763.0  Dec 05 2019          149.93  +0.08 (+0.05%)   \n",
      "..    ...      ...          ...             ...             ...   \n",
      "84  64145  64146.0  Apr 22 2020          173.52  +5.70 (+3.40%)   \n",
      "85  64511  64512.0  Apr 23 2020          171.42  -2.10 (-1.21%)   \n",
      "86  65150  65151.0  Apr 24 2020          174.55  +3.13 (+1.83%)   \n",
      "87  66076  66077.0  Apr 27 2020          174.05  -0.50 (-0.29%)   \n",
      "88  67002  67003.0  Apr 28 2020          169.81  -4.24 (-2.44%)   \n",
      "\n",
      "    price_after_hours  previous_close  today opened      price range  \\\n",
      "0              149.48          149.62        149.40  148.51 - 149.80   \n",
      "1              149.59          149.48        150.07  148.82 - 150.29   \n",
      "2              151.23          149.59        150.00  149.92 - 151.35   \n",
      "3              149.85          149.31        150.14  149.20 - 150.18   \n",
      "4              149.93          149.85        150.05  149.50 - 150.32   \n",
      "..                ...             ...           ...              ...   \n",
      "84             173.52          167.82        171.39  170.83 - 174.00   \n",
      "85             171.42          173.52        174.11  170.92 - 175.06   \n",
      "86             174.55          171.42        172.06  170.71 - 174.55   \n",
      "87             174.05          174.55        176.59  173.38 - 176.90   \n",
      "88             169.81          174.05        175.59  169.39 - 175.67   \n",
      "\n",
      "      52 week range  ... average volume  market cap beta (3Y Monthly)  \\\n",
      "0    93.96 - 151.33  ...     22813109.0       1.14T              1.23   \n",
      "1    93.96 - 151.33  ...     22580420.0      1.141T              1.23   \n",
      "2    93.96 - 151.35  ...     22580532.0      1.154T              1.23   \n",
      "3    93.96 - 152.50  ...     22610235.0      1.143T              1.23   \n",
      "4    93.96 - 152.50  ...     22603654.0      1.148T              1.23   \n",
      "..              ...  ...            ...         ...               ...   \n",
      "84  119.01 - 190.70  ...     54902296.0       1.32T              0.96   \n",
      "85  119.01 - 190.70  ...     55068668.0      1.304T              0.96   \n",
      "86  119.01 - 190.70  ...     55277261.0      1.328T              0.96   \n",
      "87  119.01 - 190.70  ...     55425825.0      1.324T              0.96   \n",
      "88  119.01 - 190.70  ...     55443419.0      1.292T              0.96   \n",
      "\n",
      "    PE Ratio   EPS               earnings date Dividend Yield 1Y target est  \\\n",
      "0      28.20  5.30  Jan 28, 2020 - Feb 3, 2020   2.04 (1.36%)        160.16   \n",
      "1      28.22  5.30  Jan 28, 2020 - Feb 3, 2020   2.04 (1.36%)        160.16   \n",
      "2      28.53  5.30  Jan 28, 2020 - Feb 3, 2020   2.04 (1.36%)        160.16   \n",
      "3      28.27  5.30  Jan 28, 2020 - Feb 3, 2020   2.04 (1.36%)        160.16   \n",
      "4      28.29  5.30  Jan 28, 2020 - Feb 3, 2020   2.04 (1.37%)        160.16   \n",
      "..       ...   ...                         ...            ...           ...   \n",
      "84     30.22  5.74                   29-Apr-20   2.04 (1.22%)        186.45   \n",
      "85     29.86  5.74                   29-Apr-20   2.04 (1.18%)        186.45   \n",
      "86     30.40  5.74                   29-Apr-20   2.04 (1.19%)        186.13   \n",
      "87     30.32  5.74                   29-Apr-20   2.04 (1.19%)        186.13   \n",
      "88     29.58  5.74                   29-Apr-20   2.04 (1.17%)        186.61   \n",
      "\n",
      "    Company_Abbreviation_Cleaned   Company_Name_Cleaned  \n",
      "0                           MSFT  Microsoft Corporation  \n",
      "1                           MSFT  Microsoft Corporation  \n",
      "2                           MSFT  Microsoft Corporation  \n",
      "3                           MSFT  Microsoft Corporation  \n",
      "4                           MSFT  Microsoft Corporation  \n",
      "..                           ...                    ...  \n",
      "84                          MSFT  Microsoft Corporation  \n",
      "85                          MSFT  Microsoft Corporation  \n",
      "86                          MSFT  Microsoft Corporation  \n",
      "87                          MSFT  Microsoft Corporation  \n",
      "88                          MSFT  Microsoft Corporation  \n",
      "\n",
      "[89 rows x 21 columns]\n"
     ]
    }
   ],
   "source": [
    "#for the next part of the assignment, I'm going to use just Microsoft data\n",
    "\n",
    "#find all the data associated with microsoft by, finding all instances of 'MSFT'\n",
    "#and then finding where this is true\n",
    "microsoft = stocks_cleaned['Company_Abbreviation_Cleaned'] == 'MSFT'\n",
    "m = stocks_cleaned.where(microsoft)\n",
    "\n",
    "#drop all other columns\n",
    "m1 = m.dropna()\n",
    "\n",
    "#resent index\n",
    "m2 = m1.reset_index()\n",
    "print(m2)"
   ]
  },
  {
   "cell_type": "code",
   "execution_count": 163,
   "id": "6595161c",
   "metadata": {},
   "outputs": [
    {
     "name": "stdout",
     "output_type": "stream",
     "text": [
      "           date  price_at_close\n",
      "0   Nov 21 2019          149.48\n",
      "1   Nov 22 2019          149.59\n",
      "2   Nov 25 2019          151.23\n",
      "3   Dec 04 2019          149.85\n",
      "4   Dec 05 2019          149.93\n",
      "..          ...             ...\n",
      "84  Apr 22 2020          173.52\n",
      "85  Apr 23 2020          171.42\n",
      "86  Apr 24 2020          174.55\n",
      "87  Apr 27 2020          174.05\n",
      "88  Apr 28 2020          169.81\n",
      "\n",
      "[89 rows x 2 columns]\n"
     ]
    }
   ],
   "source": [
    "#i want to look at the average price at close for MSFT stock in Nov 2019\n",
    "\n",
    "#drop all the columns i don't want\n",
    "pac = m2.drop(['index', 'no', 'price_change',\n",
    "       'price_after_hours', 'previous_close', 'today opened', 'price range',\n",
    "       '52 week range', 'volume', 'average volume', 'market cap',\n",
    "       'beta (3Y Monthly)', 'PE Ratio', 'EPS', 'earnings date',\n",
    "       'Dividend Yield', '1Y target est', 'Company_Abbreviation_Cleaned',\n",
    "       'Company_Name_Cleaned'], axis=1)\n",
    "print(pac)"
   ]
  },
  {
   "cell_type": "code",
   "execution_count": 164,
   "id": "d3c23e3c",
   "metadata": {},
   "outputs": [
    {
     "name": "stdout",
     "output_type": "stream",
     "text": [
      "          date  price_at_close\n",
      "0  Nov 21 2019          149.48\n",
      "1  Nov 22 2019          149.59\n",
      "2  Nov 25 2019          151.23\n"
     ]
    }
   ],
   "source": [
    "#locate all the data from Nov 2019\n",
    "pac_nov2019 = pac.iloc[0:3]\n",
    "print(pac_nov2019)"
   ]
  },
  {
   "cell_type": "code",
   "execution_count": 165,
   "id": "c8504a44",
   "metadata": {},
   "outputs": [
    {
     "name": "stdout",
     "output_type": "stream",
     "text": [
      "Average:\n",
      "price_at_close    150.1\n",
      "dtype: float64\n"
     ]
    }
   ],
   "source": [
    "# create a function to average the three rows\n",
    "def avg3(row):\n",
    "    x=row[0]\n",
    "    y=row[1]\n",
    "    z=row[2]\n",
    "    return (x+y+z)/3\n",
    "\n",
    "#drop the dates now, because I don't need them\n",
    "pac_1 = pac_nov2019.drop(['date'], axis=1)\n",
    "\n",
    "#use apply and print\n",
    "print('Average:')\n",
    "print(pac_1.apply(avg3, axis=0))"
   ]
  },
  {
   "cell_type": "code",
   "execution_count": 166,
   "id": "64ae30ad",
   "metadata": {},
   "outputs": [
    {
     "name": "stdout",
     "output_type": "stream",
     "text": [
      "Sum:\n",
      "price_at_close    450.3\n",
      "dtype: float64\n"
     ]
    }
   ],
   "source": [
    "# this is a sum of those same rows\n",
    "def sum3(row):\n",
    "    x=row[0]\n",
    "    y=row[1]\n",
    "    z=row[2]\n",
    "    return (x+y+z)\n",
    "\n",
    "print('Sum:')\n",
    "print(pac_1.apply(sum3, axis=0))"
   ]
  },
  {
   "cell_type": "code",
   "execution_count": 167,
   "id": "e0525eea",
   "metadata": {},
   "outputs": [
    {
     "name": "stdout",
     "output_type": "stream",
     "text": [
      "    price_at_close\n",
      "0           149.48\n",
      "1           149.59\n",
      "2           151.23\n",
      "3           149.85\n",
      "4           149.93\n",
      "..             ...\n",
      "84          173.52\n",
      "85          171.42\n",
      "86          174.55\n",
      "87          174.05\n",
      "88          169.81\n",
      "\n",
      "[89 rows x 1 columns]\n"
     ]
    }
   ],
   "source": [
    "#moving forward, I want to use the entire price_at_close column\n",
    "#first, I drop the date column\n",
    "pac_full = pac.drop(['date'], axis=1)\n",
    "print(pac_full)"
   ]
  },
  {
   "cell_type": "code",
   "execution_count": 168,
   "id": "c121e706",
   "metadata": {},
   "outputs": [
    {
     "name": "stdout",
     "output_type": "stream",
     "text": [
      "Median:\n",
      "price_at_close    160.62\n",
      "dtype: float64\n"
     ]
    }
   ],
   "source": [
    "#create a function to find the median\n",
    "def median(x):\n",
    "    m = sorted(x) [len(x) // 2]\n",
    "    return(m)\n",
    "\n",
    "#apply it to the pac column to find the median\n",
    "print('Median:')\n",
    "print(pac_full.apply(median, axis=0))"
   ]
  },
  {
   "cell_type": "code",
   "execution_count": 169,
   "id": "678886f0",
   "metadata": {},
   "outputs": [
    {
     "name": "stdout",
     "output_type": "stream",
     "text": [
      "Range:\n",
      "price_at_close    53.28\n",
      "dtype: float64\n"
     ]
    }
   ],
   "source": [
    "#create a function to find range\n",
    "def range1(x):\n",
    "    r = x.max()-x.min()\n",
    "    return(r)\n",
    "\n",
    "#apply it to the pac column to find the range\n",
    "print('Range:')\n",
    "print(pac_full.apply(range1, axis=0))"
   ]
  },
  {
   "cell_type": "code",
   "execution_count": 171,
   "id": "7ed5d6b2",
   "metadata": {},
   "outputs": [
    {
     "name": "stdout",
     "output_type": "stream",
     "text": [
      "    price_at_close\n",
      "0              149\n",
      "1              149\n",
      "2              151\n",
      "3              149\n",
      "4              149\n",
      "..             ...\n",
      "84             173\n",
      "85             171\n",
      "86             174\n",
      "87             174\n",
      "88             169\n",
      "\n",
      "[89 rows x 1 columns]\n"
     ]
    }
   ],
   "source": [
    "# change the dtype to int to remove the decimals\n",
    "# this will make finding a mode easier\n",
    "\n",
    "pac_full2 = pac_full.astype(int)\n",
    "print(pac_full2)"
   ]
  },
  {
   "cell_type": "code",
   "execution_count": 172,
   "id": "76c6a3c5",
   "metadata": {},
   "outputs": [],
   "source": [
    "# function to determine mode\n",
    "# which is the most frequent number in a dataset\n",
    "\n",
    "def mode(x):\n",
    "    c = x.value_counts()\n",
    "    return(c)"
   ]
  },
  {
   "cell_type": "code",
   "execution_count": 173,
   "id": "28107a61",
   "metadata": {},
   "outputs": [
    {
     "name": "stdout",
     "output_type": "stream",
     "text": [
      "     price_at_close\n",
      "157               6\n",
      "149               5\n",
      "165               5\n",
      "158               5\n",
      "151               5\n",
      "170               4\n",
      "155               3\n",
      "154               3\n",
      "160               3\n",
      "153               3\n",
      "174               3\n",
      "183               3\n",
      "166               3\n",
      "171               2\n",
      "187               2\n",
      "173               2\n",
      "146               2\n",
      "135               2\n",
      "178               2\n",
      "184               2\n",
      "167               2\n",
      "185               1\n",
      "175               1\n",
      "177               1\n",
      "159               1\n",
      "163               1\n",
      "152               1\n",
      "156               1\n",
      "148               1\n",
      "137               1\n",
      "142               1\n",
      "140               1\n",
      "180               1\n",
      "179               1\n",
      "139               1\n",
      "150               1\n",
      "161               1\n",
      "164               1\n",
      "172               1\n",
      "162               1\n",
      "168               1\n",
      "188               1\n",
      "169               1\n"
     ]
    }
   ],
   "source": [
    "# mode is the most frequent number in a dataset\n",
    "# the list is automatically sorted in ascending order\n",
    "# 157 is the most frequent number in the dataset, there is the mode\n",
    "\n",
    "print(pac_full2.apply(mode, axis=0))"
   ]
  },
  {
   "cell_type": "code",
   "execution_count": null,
   "id": "bdfd6c40",
   "metadata": {},
   "outputs": [],
   "source": []
  }
 ],
 "metadata": {
  "kernelspec": {
   "display_name": "Python 3 (ipykernel)",
   "language": "python",
   "name": "python3"
  },
  "language_info": {
   "codemirror_mode": {
    "name": "ipython",
    "version": 3
   },
   "file_extension": ".py",
   "mimetype": "text/x-python",
   "name": "python",
   "nbconvert_exporter": "python",
   "pygments_lexer": "ipython3",
   "version": "3.9.7"
  }
 },
 "nbformat": 4,
 "nbformat_minor": 5
}
